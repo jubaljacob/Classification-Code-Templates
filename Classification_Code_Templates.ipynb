{
  "nbformat": 4,
  "nbformat_minor": 0,
  "metadata": {
    "colab": {
      "name": "Classification Code Templates.ipynb",
      "provenance": [],
      "collapsed_sections": [],
      "machine_shape": "hm",
      "include_colab_link": true
    },
    "kernelspec": {
      "name": "python3",
      "display_name": "Python 3"
    }
  },
  "cells": [
    {
      "cell_type": "markdown",
      "metadata": {
        "id": "view-in-github",
        "colab_type": "text"
      },
      "source": [
        "<a href=\"https://colab.research.google.com/github/jubaljacob/Classification-Code-Templates/blob/main/Classification_Code_Templates.ipynb\" target=\"_parent\"><img src=\"https://colab.research.google.com/assets/colab-badge.svg\" alt=\"Open In Colab\"/></a>"
      ]
    },
    {
      "cell_type": "markdown",
      "metadata": {
        "id": "0MRC0e0KhQ0S"
      },
      "source": [
        "##Common preparing tools"
      ]
    },
    {
      "cell_type": "markdown",
      "metadata": {
        "id": "LWd1UlMnhT2s"
      },
      "source": [
        "## Importing the libraries"
      ]
    },
    {
      "cell_type": "code",
      "metadata": {
        "id": "YvGPUQaHhXfL"
      },
      "source": [
        "import numpy as np\n",
        "import matplotlib.pyplot as plt\n",
        "import pandas as pd\n",
        "from sklearn.model_selection import train_test_split\n",
        "from sklearn.preprocessing import StandardScaler\n",
        "from sklearn.linear_model import LogisticRegression\n",
        "from sklearn.neighbors import KNeighborsClassifier\n",
        "from sklearn.svm import SVC\n",
        "from sklearn.naive_bayes import GaussianNB\n",
        "from sklearn.tree import DecisionTreeClassifier\n",
        "from sklearn.ensemble import RandomForestClassifier\n",
        "from sklearn.metrics import accuracy_score,confusion_matrix\n"
      ],
      "execution_count": 74,
      "outputs": []
    },
    {
      "cell_type": "markdown",
      "metadata": {
        "id": "K1VMqkGvhc3-"
      },
      "source": [
        "## Importing the dataset"
      ]
    },
    {
      "cell_type": "code",
      "metadata": {
        "id": "M52QDmyzhh9s"
      },
      "source": [
        "dataset = pd.read_csv('Data.csv')\n",
        "X = dataset.iloc[:, :-1].values\n",
        "y = dataset.iloc[:, -1].values"
      ],
      "execution_count": 75,
      "outputs": []
    },
    {
      "cell_type": "markdown",
      "metadata": {
        "id": "YvxIPVyMhmKp"
      },
      "source": [
        "## Splitting the dataset into the Training set and Test set"
      ]
    },
    {
      "cell_type": "code",
      "metadata": {
        "id": "AVzJWAXIhxoC"
      },
      "source": [
        "X_train, X_test, y_train, y_test = train_test_split(X, y, test_size = 0.25, random_state = 0)"
      ],
      "execution_count": 76,
      "outputs": []
    },
    {
      "cell_type": "markdown",
      "metadata": {
        "id": "kW3c7UYih0hT"
      },
      "source": [
        "## Feature Scaling"
      ]
    },
    {
      "cell_type": "code",
      "metadata": {
        "id": "9fQlDPKCh8sc"
      },
      "source": [
        "sc = StandardScaler()\n",
        "X_train = sc.fit_transform(X_train)\n",
        "X_test = sc.transform(X_test)"
      ],
      "execution_count": 77,
      "outputs": []
    },
    {
      "cell_type": "markdown",
      "metadata": {
        "id": "bb6jCOCQiAmP"
      },
      "source": [
        "## Training the Logistic Regression model on the Training set"
      ]
    },
    {
      "cell_type": "code",
      "metadata": {
        "id": "e0pFVAmciHQs",
        "colab": {
          "base_uri": "https://localhost:8080/"
        },
        "outputId": "359f4ee9-efd0-435f-e1c4-1b2c3d7d2f0f"
      },
      "source": [
        "classifier_log_reg = LogisticRegression()\n",
        "classifier_log_reg.fit(X_train, y_train)\n",
        "y_pred = classifier_log_reg.predict(X_test)\n",
        "acc_score_log_reg = accuracy_score(y_test, y_pred)\n",
        "cm_log_reg = confusion_matrix(y_test, y_pred)\n",
        "print(cm_log_reg)"
      ],
      "execution_count": 78,
      "outputs": [
        {
          "output_type": "stream",
          "name": "stdout",
          "text": [
            "[[103   4]\n",
            " [  5  59]]\n"
          ]
        }
      ]
    },
    {
      "cell_type": "markdown",
      "source": [
        "# KNeighborsClassifier"
      ],
      "metadata": {
        "id": "-HWXLTnLoaMC"
      }
    },
    {
      "cell_type": "code",
      "source": [
        "classifier_knn = KNeighborsClassifier(n_neighbors = 5, metric = 'minkowski', p = 2)\n",
        "classifier_knn.fit(X_train, y_train)\n",
        "y_pred = classifier_knn.predict(X_test)\n",
        "cm_knn = confusion_matrix(y_test, y_pred)\n",
        "acc_score_knn = accuracy_score(y_test, y_pred)\n",
        "print(cm_knn)"
      ],
      "metadata": {
        "colab": {
          "base_uri": "https://localhost:8080/"
        },
        "id": "aI0d3ICGltPR",
        "outputId": "a6610a1f-1889-40a1-c089-87342f23b96f"
      },
      "execution_count": 79,
      "outputs": [
        {
          "output_type": "stream",
          "name": "stdout",
          "text": [
            "[[103   4]\n",
            " [  5  59]]\n"
          ]
        }
      ]
    },
    {
      "cell_type": "markdown",
      "source": [
        "# SVM Linear"
      ],
      "metadata": {
        "id": "09F-ZbaxofGL"
      }
    },
    {
      "cell_type": "code",
      "source": [
        "classifier_SVM_lin = SVC(kernel = 'linear')\n",
        "classifier_SVM_lin.fit(X_train, y_train)\n",
        "y_pred = classifier_SVM_lin.predict(X_test)\n",
        "cm_SVM_lin = confusion_matrix(y_test, y_pred)\n",
        "acc_score_SVM_lin = accuracy_score(y_test, y_pred)\n",
        "print(cm_SVM_lin)"
      ],
      "metadata": {
        "colab": {
          "base_uri": "https://localhost:8080/"
        },
        "id": "9yiUSYDhlvXh",
        "outputId": "2151d17d-0a9b-4bd7-bc6c-a6a830fd076a"
      },
      "execution_count": 80,
      "outputs": [
        {
          "output_type": "stream",
          "name": "stdout",
          "text": [
            "[[102   5]\n",
            " [  5  59]]\n"
          ]
        }
      ]
    },
    {
      "cell_type": "markdown",
      "source": [
        "# SVM rbf"
      ],
      "metadata": {
        "id": "jhlVhmcUohHg"
      }
    },
    {
      "cell_type": "code",
      "source": [
        "classifier_SVM_rbf = SVC(kernel = 'rbf')\n",
        "classifier_SVM_rbf.fit(X_train, y_train)\n",
        "y_pred = classifier_SVM_rbf.predict(X_test)\n",
        "cm_SVM_rbf = confusion_matrix(y_test, y_pred)\n",
        "acc_score_SVM_rbf = accuracy_score(y_test, y_pred)\n",
        "print(cm_SVM_rbf)"
      ],
      "metadata": {
        "colab": {
          "base_uri": "https://localhost:8080/"
        },
        "id": "WewDSsfnlyUH",
        "outputId": "c39dfd1b-bbab-4e57-ed8c-3445fc215d64"
      },
      "execution_count": 81,
      "outputs": [
        {
          "output_type": "stream",
          "name": "stdout",
          "text": [
            "[[102   5]\n",
            " [  3  61]]\n"
          ]
        }
      ]
    },
    {
      "cell_type": "markdown",
      "source": [
        "# Naive Bayes"
      ],
      "metadata": {
        "id": "d9Rxob4Xonuo"
      }
    },
    {
      "cell_type": "code",
      "source": [
        "classifier_Bayes = GaussianNB()\n",
        "classifier_Bayes.fit(X_train, y_train)\n",
        "y_pred = classifier_Bayes.predict(X_test)\n",
        "cm_Bayes = confusion_matrix(y_test, y_pred)\n",
        "acc_score_bayes = accuracy_score(y_test, y_pred)\n",
        "print(cm_Bayes)"
      ],
      "metadata": {
        "colab": {
          "base_uri": "https://localhost:8080/"
        },
        "id": "M0s_0Oaml0Bz",
        "outputId": "15e945c8-50dd-4e69-f87c-9113c9a54c2d"
      },
      "execution_count": 82,
      "outputs": [
        {
          "output_type": "stream",
          "name": "stdout",
          "text": [
            "[[99  8]\n",
            " [ 2 62]]\n"
          ]
        }
      ]
    },
    {
      "cell_type": "markdown",
      "source": [
        "# Decison Tree"
      ],
      "metadata": {
        "id": "EKcw1eXuos5E"
      }
    },
    {
      "cell_type": "code",
      "source": [
        "classifier_tree = DecisionTreeClassifier(criterion = 'entropy')\n",
        "classifier_tree.fit(X_train, y_train)\n",
        "y_pred = classifier_tree.predict(X_test)\n",
        "cm_tree = confusion_matrix(y_test, y_pred)\n",
        "acc_score_tree = accuracy_score(y_test, y_pred)\n",
        "print(cm_tree)"
      ],
      "metadata": {
        "colab": {
          "base_uri": "https://localhost:8080/"
        },
        "id": "XKfdolmAl4Wr",
        "outputId": "9b3636b8-9d2d-418a-dac3-255d475bff76"
      },
      "execution_count": 83,
      "outputs": [
        {
          "output_type": "stream",
          "name": "stdout",
          "text": [
            "[[103   4]\n",
            " [  4  60]]\n"
          ]
        }
      ]
    },
    {
      "cell_type": "markdown",
      "source": [
        "# Random Forest"
      ],
      "metadata": {
        "id": "n47Epn2gowKU"
      }
    },
    {
      "cell_type": "code",
      "source": [
        "def best_est(n_estimators,X_train,X_test,y_train,y_test):\n",
        "    classifier_rff = RandomForestClassifier(n_estimators= n_estimators, criterion='entropy', random_state=0)\n",
        "    classifier_rff.fit(X_train,y_train)\n",
        "    yy_pred_rf = classifier_rff.predict(X_test)\n",
        "    return(accuracy_score(y_test, yy_pred_rf))\n",
        "scores = {estimator: best_est(estimator, X_train, X_test, y_train, y_test) for estimator in range(1,100)}\n",
        "\n",
        "best_tree_size = max(scores, key=scores.get)\n",
        "\n",
        "print(best_tree_size)"
      ],
      "metadata": {
        "colab": {
          "base_uri": "https://localhost:8080/"
        },
        "id": "3GGR69RLpjdB",
        "outputId": "e1663e23-10bb-466b-b032-f91fb920cbb9"
      },
      "execution_count": 84,
      "outputs": [
        {
          "output_type": "stream",
          "name": "stdout",
          "text": [
            "45\n"
          ]
        }
      ]
    },
    {
      "cell_type": "code",
      "source": [
        "classifier_forest = RandomForestClassifier(n_estimators = 45, criterion = 'entropy')\n",
        "classifier_forest.fit(X_train, y_train)\n",
        "y_pred = classifier_forest.predict(X_test)\n",
        "cm_forest = confusion_matrix(y_test, y_pred)\n",
        "acc_score_forest = accuracy_score(y_test, y_pred)\n",
        "print(cm_forest)"
      ],
      "metadata": {
        "colab": {
          "base_uri": "https://localhost:8080/"
        },
        "id": "IBQnBQLQl7zg",
        "outputId": "ca6c59de-f3b2-4d11-8cff-b69fa68471ec"
      },
      "execution_count": 85,
      "outputs": [
        {
          "output_type": "stream",
          "name": "stdout",
          "text": [
            "[[103   4]\n",
            " [  4  60]]\n"
          ]
        }
      ]
    },
    {
      "cell_type": "code",
      "source": [
        "print(f\"score for Naive Bayes: {100*acc_score_bayes:.3f} % accuracy\")\n",
        "print(f\"score for Decision Tree: {100*acc_score_tree:.3f} % accuracy\")\n",
        "print(f\"score for Logistic Regression: {100*acc_score_log_reg:.3f} % accuracy\")\n",
        "print(f\"score for K_NN: {100*acc_score_knn:.3f} % accuracy\")\n",
        "print(f\"score for Forest: {100*acc_score_forest:.3f} % accuracy\")\n",
        "print(f\"score for SVM linear: {100*acc_score_SVM_lin:.3f} % accuracy\")\n",
        "print(f\"score for SVM kernel: {100*acc_score_SVM_rbf:.3f} % accuracy\")"
      ],
      "metadata": {
        "colab": {
          "base_uri": "https://localhost:8080/"
        },
        "id": "jRbuwl5ol940",
        "outputId": "ee73cf36-8eb4-4ff3-f563-01f8edb1beab"
      },
      "execution_count": 86,
      "outputs": [
        {
          "output_type": "stream",
          "name": "stdout",
          "text": [
            "score for Naive Bayes: 94.152 % accuracy\n",
            "score for Decision Tree: 95.322 % accuracy\n",
            "score for Logistic Regression: 94.737 % accuracy\n",
            "score for K_NN: 94.737 % accuracy\n",
            "score for Forest: 95.322 % accuracy\n",
            "score for SVM linear: 94.152 % accuracy\n",
            "score for SVM kernel: 95.322 % accuracy\n"
          ]
        }
      ]
    }
  ]
}